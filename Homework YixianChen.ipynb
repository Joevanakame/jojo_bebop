{
 "cells": [
  {
   "cell_type": "markdown",
   "metadata": {},
   "source": [
    "# Econ 430: Homework1"
   ]
  },
  {
   "cell_type": "markdown",
   "metadata": {},
   "source": [
    "#### Evan(Yixian) Chen"
   ]
  },
  {
   "cell_type": "markdown",
   "metadata": {},
   "source": [
    "#### Import library"
   ]
  },
  {
   "cell_type": "code",
   "execution_count": 34,
   "metadata": {},
   "outputs": [],
   "source": [
    "import numpy as np\n",
    "import matplotlib.pyplot as plt\n",
    "import math\n",
    "import random\n",
    "import sympy\n",
    "import bootstrapped.bootstrap as bs\n",
    "import bootstrapped.stats_functions as bs_stats\n",
    "import scipy.stats as st "
   ]
  },
  {
   "cell_type": "markdown",
   "metadata": {},
   "source": [
    "### Exercise 1"
   ]
  },
  {
   "cell_type": "code",
   "execution_count": 44,
   "metadata": {},
   "outputs": [
    {
     "data": {
      "text/plain": [
       "[<matplotlib.lines.Line2D at 0x1a1c481f860>]"
      ]
     },
     "execution_count": 44,
     "metadata": {},
     "output_type": "execute_result"
    },
    {
     "data": {
      "image/png": "[encoded data removed]",
      "text/plain": [
       "<Figure size 432x288 with 1 Axes>"
      ]
     },
     "metadata": {
      "needs_background": "light"
     },
     "output_type": "display_data"
    }
   ],
   "source": [
    "x_e1 = np.random.exponential(0.2, size=100000)\n",
    "M_e1 = np.array([np.mean(x_e1[0:i+1]) for i in range(100000)])\n",
    "plt.plot(M_e1)"
   ]
  },
  {
   "cell_type": "markdown",
   "metadata": {},
   "source": [
    "From the plot, we can know that they are converging to 0.2.  \n",
    "***\n",
    "To calculate the speed of converging, I set a value named \"err\", use a for loop to find when the sequence can reach the range of [5-err,5+err].  "
   ]
  },
  {
   "cell_type": "code",
   "execution_count": 50,
   "metadata": {},
   "outputs": [
    {
     "name": "stdout",
     "output_type": "stream",
     "text": [
      "How quickly? Steps:  164\n"
     ]
    }
   ],
   "source": [
    "err = 0.001\n",
    "for i in range(100000):\n",
    "    if abs(M_e1[i]-0.2) < err and abs(M_e1[i+1]-0.2) < err:\n",
    "        print(\"How quickly? Steps: \",i)\n",
    "        break"
   ]
  },
  {
   "cell_type": "markdown",
   "metadata": {},
   "source": [
    "### Exercise 2"
   ]
  },
  {
   "cell_type": "code",
   "execution_count": 26,
   "metadata": {},
   "outputs": [
    {
     "data": {
      "text/plain": [
       "(array([1306., 2717., 2721., 1832.,  873.,  372.,  125.,   41.,    9.,\n",
       "           4.]),\n",
       " array([0.   , 0.045, 0.09 , 0.135, 0.18 , 0.225, 0.27 , 0.315, 0.36 ,\n",
       "        0.405, 0.45 ]),\n",
       " <a list of 10 Patch objects>)"
      ]
     },
     "execution_count": 26,
     "metadata": {},
     "output_type": "execute_result"
    },
    {
     "data": {
      "image/png": "[encoded data removed]",
      "text/plain": [
       "<Figure size 432x288 with 1 Axes>"
      ]
     },
     "metadata": {
      "needs_background": "light"
     },
     "output_type": "display_data"
    }
   ],
   "source": [
    "x_e2 = np.zeros([20,10000])\n",
    "for i in range(20):\n",
    "    x_e2[i,:] = np.random.binomial(10,0.01,size = 10000)\n",
    "M_20 = np.array([np.mean(x_e2[:,i]) for i in range(10000)])\n",
    "plt.hist(M_20, bins = 10)"
   ]
  },
  {
   "cell_type": "markdown",
   "metadata": {},
   "source": [
    "This graph reaches the max point in 0.05. This graph firstly rise up and then drop down. There is little number of points when M_20 reaches 0.3."
   ]
  },
  {
   "cell_type": "markdown",
   "metadata": {},
   "source": [
    "### Exercise 3"
   ]
  },
  {
   "cell_type": "markdown",
   "metadata": {},
   "source": [
    "#### (a)  \n",
    "Question about (X1,...X9)'s distribution: what is the parameter of binomial?  1 or 9?  \n",
    "I use np.random.binomial(1,0.4,size) to generate the sample. "
   ]
  },
  {
   "cell_type": "code",
   "execution_count": 51,
   "metadata": {},
   "outputs": [
    {
     "name": "stdout",
     "output_type": "stream",
     "text": [
      "The best [c1,c2] is  [1, 7]\n"
     ]
    }
   ],
   "source": [
    "x_e3 = np.zeros([9,100000])\n",
    "for i in range(9):\n",
    "    x_e3[i,:] = np.random.binomial(1,0.4,size = 100000)\n",
    "Y = np.sum(x_e3,axis = 0)\n",
    "mostclose = 0\n",
    "dict_close = {}\n",
    "for i in range(int(min(Y)),int(max(Y)+1)):\n",
    "    for j in range(int(min(Y)),int(max(Y)+1)):\n",
    "        value_temp = np.shape(Y[Y<=i])[0]/100000 + np.shape(Y[Y>=j])[0]/100000\n",
    "        if value_temp <= 0.1 and value_temp > mostclose:\n",
    "            dict_close[value_temp] = [i,j]\n",
    "            mostclose = value_temp\n",
    "print(\"The best [c1,c2] is \",dict_close[max(dict_close.keys())])"
   ]
  },
  {
   "cell_type": "markdown",
   "metadata": {},
   "source": [
    "#### (b)"
   ]
  },
  {
   "cell_type": "code",
   "execution_count": 53,
   "metadata": {},
   "outputs": [
    {
     "name": "stdout",
     "output_type": "stream",
     "text": [
      "The size of test is  0.09340999999999999\n"
     ]
    }
   ],
   "source": [
    "print(\"The size of test is \",max(dict_close.keys()))"
   ]
  },
  {
   "cell_type": "markdown",
   "metadata": {},
   "source": [
    "#### (c)\n",
    "The power function: Y<=1 and Y>= 7"
   ]
  },
  {
   "cell_type": "code",
   "execution_count": 86,
   "metadata": {},
   "outputs": [
    {
     "data": {
      "text/plain": [
       "Text(0.5, 1.0, 'Power funcition of p')"
      ]
     },
     "execution_count": 86,
     "metadata": {},
     "output_type": "execute_result"
    },
    {
     "data": {
      "image/png": "[encoded data removed]",
      "text/plain": [
       "<Figure size 432x288 with 1 Axes>"
      ]
     },
     "metadata": {
      "needs_background": "light"
     },
     "output_type": "display_data"
    }
   ],
   "source": [
    "from scipy.special import comb\n",
    "e3cx = np.linspace(0,1,1001)\n",
    "e3result = np.zeros([1,1001])\n",
    "for i in range(np.shape(e3cx)[0]):\n",
    "    e3result[0,i] = sum([comb(9,j)*(e3cx[i]**j)*((1-e3cx[i])**(9-j)) for j in [0,1,7,8,9]])\n",
    "plt.plot(e3cx, e3result[0,:])\n",
    "plt.xlabel(\"p\")\n",
    "plt.ylabel(\"Power function value\")\n",
    "plt.title(\"Power funcition of p\")"
   ]
  },
  {
   "cell_type": "markdown",
   "metadata": {},
   "source": [
    "### Exercise 4"
   ]
  },
  {
   "cell_type": "markdown",
   "metadata": {},
   "source": [
    "#### (a)"
   ]
  },
  {
   "cell_type": "code",
   "execution_count": 31,
   "metadata": {},
   "outputs": [
    {
     "data": {
      "text/plain": [
       "<matplotlib.axes._subplots.AxesSubplot at 0x4e053387f0>"
      ]
     },
     "execution_count": 31,
     "metadata": {},
     "output_type": "execute_result"
    },
    {
     "data": {
      "image/png": "[encoded data removed]",
      "text/plain": [
       "<Figure size 432x288 with 1 Axes>"
      ]
     },
     "metadata": {
      "needs_background": "light"
     },
     "output_type": "display_data"
    }
   ],
   "source": [
    "import seaborn as sns\n",
    "e4b = np.loadtxt(r\"C:\\Users\\chenyixian\\Desktop\\Homework\\430\\Prob4_data.txt\")\n",
    "sns.distplot(e4b,bins = 30)"
   ]
  },
  {
   "cell_type": "markdown",
   "metadata": {},
   "source": [
    "#### (b)"
   ]
  },
  {
   "cell_type": "code",
   "execution_count": 32,
   "metadata": {},
   "outputs": [
    {
     "data": {
      "text/plain": [
       "[(0.580541866754351, 1.08184910505451)]"
      ]
     },
     "execution_count": 32,
     "metadata": {},
     "output_type": "execute_result"
    }
   ],
   "source": [
    "e4b = np.loadtxt(r\"C:\\Users\\Evan\\Desktop\\430\\Prob4_data.txt\")\n",
    "alpha4 = sympy.symbols('alpha4')\n",
    "beta4 = sympy.symbols('beta4')\n",
    "sympy.solve([alpha4/beta4 - np.mean(e4b),alpha4/beta4**2 - np.std(e4b)**2],[alpha4,beta4])"
   ]
  },
  {
   "cell_type": "markdown",
   "metadata": {},
   "source": [
    "#### (c) "
   ]
  },
  {
   "cell_type": "code",
   "execution_count": 35,
   "metadata": {},
   "outputs": [
    {
     "name": "stdout",
     "output_type": "stream",
     "text": [
      "In bootstrap: \n",
      " mean is  0.505464    (0.46417980000000003, 0.5455867250000002) \n",
      "std is  0.6561415812947691    (0.6010869587411058, 0.7116586836137572) \n",
      "\n",
      "95% confidence interval is  (0.46472696682507714, 0.546201033174923)\n"
     ]
    }
   ],
   "source": [
    "e4b = np.loadtxt(r\"C:\\Users\\Evan\\Desktop\\430\\Prob4_data.txt\")\n",
    "sample4 = np.random.choice(e4b,1000,replace = True)\n",
    "s4mean = bs.bootstrap(sample4, stat_func = bs_stats.mean)\n",
    "s4std = bs.bootstrap(sample4, stat_func = bs_stats.std)\n",
    "print(\"In bootstrap: \\n mean is \",s4mean,\"\\nstd is \",s4std,\"\\n\")\n",
    "\n",
    "#95% confidence interval\n",
    "\n",
    "cinternal = st.t.interval(1-0.05, len(sample4)-1, loc=np.mean(sample4), scale=st.sem(sample4))\n",
    "print(\"95% confidence interval is \",cinternal)\n"
   ]
  },
  {
   "cell_type": "markdown",
   "metadata": {},
   "source": [
    "The value of alpha and beta is smaller when I use bootstrap than the value when I use method moments.  \n",
    "The difference of beta is large."
   ]
  },
  {
   "cell_type": "markdown",
   "metadata": {},
   "source": [
    "### Exercise 5"
   ]
  },
  {
   "cell_type": "markdown",
   "metadata": {},
   "source": [
    "#### (a)"
   ]
  },
  {
   "cell_type": "code",
   "execution_count": 32,
   "metadata": {},
   "outputs": [],
   "source": [
    "label_e5 = list(range(1,10001))\n",
    "sample_a = random.sample(label_e5,500)"
   ]
  },
  {
   "cell_type": "markdown",
   "metadata": {},
   "source": [
    "#### (b)"
   ]
  },
  {
   "cell_type": "code",
   "execution_count": 33,
   "metadata": {},
   "outputs": [],
   "source": [
    "label_e5 = list(range(1,10001))\n",
    "sample_b = []\n",
    "for i in range(500):\n",
    "    sample_b.append(random.sample(label_e5,1)[0])"
   ]
  },
  {
   "cell_type": "markdown",
   "metadata": {},
   "source": [
    "I have a question.  \n",
    "Is random.sample iid.? some articles tell that random.sample can satisify the requirement of iid."
   ]
  },
  {
   "cell_type": "markdown",
   "metadata": {},
   "source": [
    "### Excercise 6"
   ]
  },
  {
   "cell_type": "markdown",
   "metadata": {},
   "source": [
    "#### (a)"
   ]
  },
  {
   "cell_type": "code",
   "execution_count": 5,
   "metadata": {},
   "outputs": [
    {
     "data": {
      "text/plain": [
       "{'whiskers': [<matplotlib.lines.Line2D at 0x1a1be899d68>,\n",
       "  <matplotlib.lines.Line2D at 0x1a1be899e48>],\n",
       " 'caps': [<matplotlib.lines.Line2D at 0x1a1be8a8438>,\n",
       "  <matplotlib.lines.Line2D at 0x1a1be8a8780>],\n",
       " 'boxes': [<matplotlib.lines.Line2D at 0x1a1be899940>],\n",
       " 'medians': [<matplotlib.lines.Line2D at 0x1a1be8a8ac8>],\n",
       " 'fliers': [<matplotlib.lines.Line2D at 0x1a1be8a8e10>],\n",
       " 'means': []}"
      ]
     },
     "execution_count": 5,
     "metadata": {},
     "output_type": "execute_result"
    },
    {
     "data": {
      "image/png": "[encoded data removed]",
      "text/plain": [
       "<Figure size 432x288 with 1 Axes>"
      ]
     },
     "metadata": {
      "needs_background": "light"
     },
     "output_type": "display_data"
    }
   ],
   "source": [
    "data30 = np.random.normal(10,2,size = 30)\n",
    "data1 = np.random.normal(30,2,size = 1)\n",
    "data31 = np.concatenate([data30,data1])\n",
    "plt.boxplot(data31)"
   ]
  },
  {
   "cell_type": "markdown",
   "metadata": {},
   "source": [
    "#### (b)"
   ]
  },
  {
   "cell_type": "markdown",
   "metadata": {},
   "source": [
    "I notice that there are only one points outside the box, and the value of box is between 9 and 13.  \n",
    "The value of line of boxplot is between 6 to 16."
   ]
  },
  {
   "cell_type": "markdown",
   "metadata": {},
   "source": [
    "#### (c)"
   ]
  },
  {
   "cell_type": "markdown",
   "metadata": {},
   "source": [
    "I think the mean, the edge of box can measure the location of distribution,   \n",
    "Because most values is in the box. The edge of box and the mean of it can show what these values are around.  \n",
    "\n",
    "And the end of lines can measure the spread of the distribution. If the line is very long, it shows that the values' distribution and the spread is large. Else, it shows that the values' distribution and the spread is small."
   ]
  },
  {
   "cell_type": "markdown",
   "metadata": {},
   "source": [
    "### Exercise 7"
   ]
  },
  {
   "cell_type": "code",
   "execution_count": 3,
   "metadata": {},
   "outputs": [
    {
     "data": {
      "text/plain": [
       "Text(0.5, 1.0, 'Likelihood function line')"
      ]
     },
     "execution_count": 3,
     "metadata": {},
     "output_type": "execute_result"
    },
    {
     "data": {
      "image/png": "[encoded data removed]",
      "text/plain": [
       "<Figure size 432x288 with 1 Axes>"
      ]
     },
     "metadata": {
      "needs_background": "light"
     },
     "output_type": "display_data"
    }
   ],
   "source": [
    "def expliki(theta):\n",
    "    return np.exp(-(theta-1)**2/2)+3*np.exp(-(theta-2)**2/2)\n",
    "datae7 = np.linspace(-10,10,1001)\n",
    "datae7 = np.delete(datae7,[0])\n",
    "mle = expliki(datae7)\n",
    "max_mle = np.argmax(mle)\n",
    "plt.plot(datae7,mle)\n",
    "plt.plot(datae7[max_mle],mle[max_mle],'ks')\n",
    "plt.annotate('['+str(round(datae7[max_mle],3))+', '+str(round(mle[max_mle],3))+']', xy=(datae7[max_mle],mle[max_mle]))\n",
    "plt.xlabel(\"Data\")\n",
    "plt.title(\"Likelihood function line\")"
   ]
  },
  {
   "cell_type": "markdown",
   "metadata": {},
   "source": [
    "### Exercise 8"
   ]
  },
  {
   "cell_type": "markdown",
   "metadata": {},
   "source": [
    "#### (a)"
   ]
  },
  {
   "cell_type": "code",
   "execution_count": 6,
   "metadata": {},
   "outputs": [
    {
     "name": "stdout",
     "output_type": "stream",
     "text": [
      "MLE, theta is  0.2\n"
     ]
    },
    {
     "data": {
      "image/png": "[encoded data removed]",
      "text/plain": [
       "<Figure size 432x288 with 1 Axes>"
      ]
     },
     "metadata": {
      "needs_background": "light"
     },
     "output_type": "display_data"
    }
   ],
   "source": [
    "def e8(theta):\n",
    "    return(4*np.log(theta)+16*np.log(1-theta))\n",
    "datae8 = np.linspace(0,1,1001)\n",
    "datae8 = np.delete(datae8,[0,1000])\n",
    "e8data = e8(datae8)\n",
    "plt.plot(datae8,e8data)\n",
    "max_index = np.argmax(e8data)\n",
    "print(\"MLE, theta is \",round(datae8[max_index],3))"
   ]
  },
  {
   "cell_type": "markdown",
   "metadata": {},
   "source": [
    "#### (b)"
   ]
  },
  {
   "cell_type": "code",
   "execution_count": 54,
   "metadata": {},
   "outputs": [
    {
     "name": "stdout",
     "output_type": "stream",
     "text": [
      "MLE, THETA is  0.194\n"
     ]
    },
    {
     "data": {
      "image/png": "[encoded data removed]",
      "text/plain": [
       "<Figure size 432x288 with 1 Axes>"
      ]
     },
     "metadata": {
      "needs_background": "light"
     },
     "output_type": "display_data"
    }
   ],
   "source": [
    "from scipy.special import comb\n",
    "def e8b(theta):\n",
    "    return np.log(comb(50*theta,4)*comb(50-50*theta,16)/comb(50,20))\n",
    "datae8b = np.linspace(4/50,34/50,1000)\n",
    "e8bdata = e8b(datae8b)\n",
    "plt.plot(datae8b,e8bdata)\n",
    "max_index = np.argmax(e8bdata)\n",
    "print(\"MLE, THETA is \",round(datae8b[max_index],3))"
   ]
  },
  {
   "cell_type": "markdown",
   "metadata": {},
   "source": [
    "### Exercise 9"
   ]
  },
  {
   "cell_type": "code",
   "execution_count": 9,
   "metadata": {},
   "outputs": [
    {
     "name": "stdout",
     "output_type": "stream",
     "text": [
      "With size  5 , Proportion is  0.5802\n",
      "With size  10 , Proportion is  0.6332\n",
      "With size  100 , Proportion is  0.6866\n"
     ]
    }
   ],
   "source": [
    "def e9pro(size):\n",
    "    e9sample = np.zeros([10000,size])\n",
    "    for i in range(10000):\n",
    "        e9sample[i,:] = np.random.normal(0,1,size = size)\n",
    "    e9 = np.zeros([10000,2])\n",
    "    for i in range(10000):\n",
    "        e9[i,0] = np.mean(e9sample[i,:])-np.std(e9sample[i,:])/pow(size,0.5)\n",
    "        e9[i,1] = np.mean(e9sample[i,:])+np.std(e9sample[i,:])/pow(size,0.5)\n",
    "    pro = np.shape(e9[(e9[:,0]<0) & (e9[:,1]>0)])[0]/10000  \n",
    "    print(\"With size \",size,\", Proportion is \",pro)\n",
    "e9pro(5)\n",
    "e9pro(10)\n",
    "e9pro(100)"
   ]
  },
  {
   "cell_type": "markdown",
   "metadata": {},
   "source": [
    "### Exercise 10"
   ]
  },
  {
   "cell_type": "code",
   "execution_count": 27,
   "metadata": {},
   "outputs": [
    {
     "name": "stdout",
     "output_type": "stream",
     "text": [
      "In plug-in MLE: \n",
      " mu is  2.9 \n",
      "sigma is  2.9214225986666156 \n",
      "\n",
      "In bootstrap: \n",
      " mean is  2.9605    (2.777695500000001, 3.1412715) \n",
      "std is  2.950489103521652    (2.8355049338147267, 3.070758646426798) \n",
      "\n",
      "95% confidence interval is  (2.7773167116383175, 3.1436832883616828)\n"
     ]
    }
   ],
   "source": [
    "sample = [3.27,-1.24,3.97,2.25,3.47,-0.09,7.45,6.20,3.74,4.12,1.42,2.75,-1.48,4.97,8.00,3.26,0.15,-3.64,4.88,4.55]\n",
    "#useing plut-in MLE\n",
    "mu = np.mean(sample)\n",
    "sigma = np.std(sample)\n",
    "print(\"In plug-in MLE: \\n mu is \",mu,\"\\nsigma is \",sigma,\"\\n\")\n",
    "#using bootstrapping\n",
    "\n",
    "samples = np.random.choice(sample,1000,replace = True)\n",
    "bootmean = bs.bootstrap(samples, stat_func = bs_stats.mean)\n",
    "bootstd = bs.bootstrap(samples, stat_func = bs_stats.std)\n",
    "print(\"In bootstrap: \\n mean is \",bootmean,\"\\nstd is \",bootstd,\"\\n\")\n",
    "\n",
    "#95% confidence interval\n",
    "\n",
    "mr = st.t.interval(1-0.05, len(samples)-1, loc=np.mean(samples), scale=st.sem(samples))\n",
    "print(\"95% confidence interval is \",mr)"
   ]
  }
 ],
 "metadata": {
  "kernelspec": {
   "display_name": "Python 3",
   "language": "python",
   "name": "python3"
  },
  "language_info": {
   "codemirror_mode": {
    "name": "ipython",
    "version": 3
   },
   "file_extension": ".py",
   "mimetype": "text/x-python",
   "name": "python",
   "nbconvert_exporter": "python",
   "pygments_lexer": "ipython3",
   "version": "3.7.3"
  }
 },
 "nbformat": 4,
 "nbformat_minor": 2
}
