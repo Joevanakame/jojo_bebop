{
 "cells": [
  {
   "cell_type": "markdown",
   "metadata": {},
   "source": [
    "# Econ 430: Homework1"
   ]
  },
  {
   "cell_type": "markdown",
   "metadata": {},
   "source": [
    "#### Evan(Yixian) Chen"
   ]
  },
  {
   "cell_type": "markdown",
   "metadata": {},
   "source": [
    "#### Import library"
   ]
  },
  {
   "cell_type": "code",
   "execution_count": 1,
   "metadata": {},
   "outputs": [],
   "source": [
    "import numpy as np\n",
    "import matplotlib.pyplot as plt\n",
    "import math\n",
    "import random"
   ]
  },
  {
   "cell_type": "markdown",
   "metadata": {},
   "source": [
    "### Exercise 1"
   ]
  },
  {
   "cell_type": "code",
   "execution_count": 2,
   "metadata": {},
   "outputs": [
    {
     "data": {
      "text/plain": [
       "[<matplotlib.lines.Line2D at 0x4e015e5e10>]"
      ]
     },
     "execution_count": 2,
     "metadata": {},
     "output_type": "execute_result"
    },
    {
     "data": {
      "image/png": "[encoded data removed]",
      "text/plain": [
       "<Figure size 432x288 with 1 Axes>"
      ]
     },
     "metadata": {
      "needs_background": "light"
     },
     "output_type": "display_data"
    }
   ],
   "source": [
    "x_e1 = np.random.exponential(0.2, size=100000)\n",
    "M_e1 = np.array([np.mean(x_e1[0:i+1]) for i in range(100000)])\n",
    "plt.plot(M_e1)"
   ]
  },
  {
   "cell_type": "markdown",
   "metadata": {},
   "source": [
    "From the plot, we can know that they are converging to 0.2.  \n",
    "***\n",
    "To calculate the speed of converging, I set a value named \"err\", use a for loop to find when the sequence can reach the range of [5-err,5+err].  "
   ]
  },
  {
   "cell_type": "code",
   "execution_count": 14,
   "metadata": {},
   "outputs": [
    {
     "name": "stdout",
     "output_type": "stream",
     "text": [
      "How quickly? Steps:  854\n"
     ]
    }
   ],
   "source": [
    "err = 0.0001\n",
    "for i in range(100000):\n",
    "    if abs((M_e1[i]+M_e1[i+1])/2-0.2) < err:\n",
    "        print(\"How quickly? Steps: \",i)\n",
    "        break"
   ]
  },
  {
   "cell_type": "markdown",
   "metadata": {},
   "source": [
    "### Exercise 2"
   ]
  },
  {
   "cell_type": "code",
   "execution_count": 26,
   "metadata": {},
   "outputs": [
    {
     "data": {
      "text/plain": [
       "(array([1306., 2717., 2721., 1832.,  873.,  372.,  125.,   41.,    9.,\n",
       "           4.]),\n",
       " array([0.   , 0.045, 0.09 , 0.135, 0.18 , 0.225, 0.27 , 0.315, 0.36 ,\n",
       "        0.405, 0.45 ]),\n",
       " <a list of 10 Patch objects>)"
      ]
     },
     "execution_count": 26,
     "metadata": {},
     "output_type": "execute_result"
    },
    {
     "data": {
      "image/png": "[encoded data removed]",
      "text/plain": [
       "<Figure size 432x288 with 1 Axes>"
      ]
     },
     "metadata": {
      "needs_background": "light"
     },
     "output_type": "display_data"
    }
   ],
   "source": [
    "x_e2 = np.zeros([20,10000])\n",
    "for i in range(20):\n",
    "    x_e2[i,:] = np.random.binomial(10,0.01,size = 10000)\n",
    "M_20 = np.array([np.mean(x_e2[:,i]) for i in range(10000)])\n",
    "plt.hist(M_20, bins = 10)"
   ]
  },
  {
   "cell_type": "markdown",
   "metadata": {},
   "source": [
    "This graph reaches the max point in 0.05. This graph firstly rise up and then drop down. There is little number of points when M_20 reaches 0.3."
   ]
  },
  {
   "cell_type": "markdown",
   "metadata": {},
   "source": [
    "### Exercise 3"
   ]
  },
  {
   "cell_type": "markdown",
   "metadata": {},
   "source": [
    "#### (a)  \n",
    "Question about (X1,...X9)'s distribution: what is the parameter of binomial?  1 or 9?  \n",
    "I use np.random.binomial(9,0.4,size) to generate the sample. "
   ]
  },
  {
   "cell_type": "code",
   "execution_count": 27,
   "metadata": {},
   "outputs": [
    {
     "name": "stdout",
     "output_type": "stream",
     "text": [
      "The best [c1,c2] is  [26, 44]\n",
      "The probility is  0.09591999999999999\n"
     ]
    }
   ],
   "source": [
    "x_e3 = np.zeros([9,100000])\n",
    "for i in range(9):\n",
    "    x_e3[i,:] = np.random.binomial(9,0.4,size = 100000)\n",
    "Y = np.sum(x_e3,axis = 0)\n",
    "mostclose = 0\n",
    "dict_close = {}\n",
    "for i in range(int(min(Y)),int(max(Y)+1)):\n",
    "    for j in range(int(min(Y)),int(max(Y)+1)):\n",
    "        value_temp = np.shape(Y[Y<=i])[0]/100000 + np.shape(Y[Y>=j])[0]/100000\n",
    "        if value_temp <= 0.1 and value_temp > mostclose:\n",
    "            dict_close[value_temp] = [i,j]\n",
    "            mostclose = value_temp\n",
    "print(\"The best [c1,c2] is \",dict_close[max(dict_close.keys())])\n",
    "print(\"The probility is \",max(dict_close.keys()))"
   ]
  },
  {
   "cell_type": "markdown",
   "metadata": {},
   "source": [
    "#### (b)"
   ]
  },
  {
   "cell_type": "markdown",
   "metadata": {},
   "source": [
    "#### (c)"
   ]
  },
  {
   "cell_type": "markdown",
   "metadata": {},
   "source": [
    "### Exercise 4"
   ]
  },
  {
   "cell_type": "markdown",
   "metadata": {},
   "source": [
    "#### (a)"
   ]
  },
  {
   "cell_type": "code",
   "execution_count": 31,
   "metadata": {},
   "outputs": [
    {
     "data": {
      "text/plain": [
       "<matplotlib.axes._subplots.AxesSubplot at 0x4e053387f0>"
      ]
     },
     "execution_count": 31,
     "metadata": {},
     "output_type": "execute_result"
    },
    {
     "data": {
      "image/png": "[encoded data removed]",
      "text/plain": [
       "<Figure size 432x288 with 1 Axes>"
      ]
     },
     "metadata": {
      "needs_background": "light"
     },
     "output_type": "display_data"
    }
   ],
   "source": [
    "import seaborn as sns\n",
    "e4b = np.loadtxt(r\"C:\\Users\\chenyixian\\Desktop\\Homework\\430\\Prob4_data.txt\")\n",
    "sns.distplot(e4b,bins = 30)"
   ]
  },
  {
   "cell_type": "markdown",
   "metadata": {},
   "source": [
    "#### (b)"
   ]
  },
  {
   "cell_type": "markdown",
   "metadata": {},
   "source": [
    "#### (c) "
   ]
  },
  {
   "cell_type": "markdown",
   "metadata": {},
   "source": [
    "### Exercise 5"
   ]
  },
  {
   "cell_type": "markdown",
   "metadata": {},
   "source": [
    "#### (a)"
   ]
  },
  {
   "cell_type": "code",
   "execution_count": 32,
   "metadata": {},
   "outputs": [],
   "source": [
    "label_e5 = list(range(1,10001))\n",
    "sample_a = random.sample(label_e5,500)"
   ]
  },
  {
   "cell_type": "markdown",
   "metadata": {},
   "source": [
    "#### (b)"
   ]
  },
  {
   "cell_type": "code",
   "execution_count": 33,
   "metadata": {},
   "outputs": [],
   "source": [
    "label_e5 = list(range(1,10001))\n",
    "sample_b = []\n",
    "for i in range(500):\n",
    "    sample_b.append(random.sample(label_e5,1)[0])"
   ]
  },
  {
   "cell_type": "markdown",
   "metadata": {},
   "source": [
    "I have a question.  \n",
    "Is random.sample iid.? some articles tell that random.sample can satisify the requirement of iid."
   ]
  },
  {
   "cell_type": "markdown",
   "metadata": {},
   "source": [
    "### Exercise 6"
   ]
  },
  {
   "cell_type": "markdown",
   "metadata": {},
   "source": [
    "a"
   ]
  },
  {
   "cell_type": "code",
   "execution_count": null,
   "metadata": {},
   "outputs": [],
   "source": []
  }
 ],
 "metadata": {
  "kernelspec": {
   "display_name": "Python 3",
   "language": "python",
   "name": "python3"
  },
  "language_info": {
   "codemirror_mode": {
    "name": "ipython",
    "version": 3
   },
   "file_extension": ".py",
   "mimetype": "text/x-python",
   "name": "python",
   "nbconvert_exporter": "python",
   "pygments_lexer": "ipython3",
   "version": "3.6.9"
  }
 },
 "nbformat": 4,
 "nbformat_minor": 2
}
